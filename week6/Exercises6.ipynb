{
 "cells": [
  {
   "cell_type": "markdown",
   "metadata": {},
   "source": [
    "# Exercise Set 6\n",
    "## Answered to all problems (1-5)"
   ]
  },
  {
   "cell_type": "markdown",
   "metadata": {},
   "source": [
    "# Question 1\n",
    "\n",
    "<p><span style=\"font-size:18px\">\n",
    "a) Proportion of success $\\hat{p} = 0.95$\n",
    "</span></p>\n",
    "\n",
    "$$\n",
    "\\hat{p} \\pm z\\sqrt{\\frac{\\hat{p}(1-\\hat{p})}{100}}\n",
    "$$\n",
    "\n",
    "<p><span style=\"font-size:18px\">\n",
    "For $90$% CI, $z=1.65$. Therefore\n",
    "</span></p>\n",
    "\n",
    "$$\n",
    "0.95 \\pm 1.65\\sqrt{\\frac{0.95*0.05}{100}}\n",
    "$$\n",
    "\n",
    "<p><span style=\"font-size:18px\">\n",
    "$\\therefore$ $90$% CI for accuracy = $[0.914, 0.986]$\n",
    "</span></p>\n",
    "\n",
    "<p><span style=\"font-size:18px\">\n",
    "b) $\\hat{p}_{1} = 0.95$, $\\hat{p}_{2} = 0.97$\n",
    "</span></p>\n",
    "\n",
    "$$\n",
    "H_{0}: \\hat{p}_{1} = \\hat{p}_{2}\n",
    "$$\n",
    "\n",
    "$$\n",
    "H_{1}: \\hat{p}_{1} \\ne \\hat{p}_{2}\n",
    "$$\n",
    "\n",
    "<p><span style=\"font-size:18px\">\n",
    "Test statistic:\n",
    "</span></p>\n",
    "\n",
    "$$\n",
    "z = \\frac{\\hat{p}_{1}-\\hat{p}_{2}}{\\sqrt{\\hat{p}(1-\\hat{p})(\\frac{1}{100}}+\\frac{1}{100})}\n",
    "$$\n",
    "\n",
    "<p><span style=\"font-size:18px\">\n",
    "where $\\hat{p} = \\frac{95+97}{100+100}=0.96$. Therefore\n",
    "</span></p>\n",
    "\n",
    "$$\n",
    "z = \\frac{0.95-0.97}{\\sqrt{0.96*0.04*\\frac{1}{50}}}\n",
    "= -0.72\n",
    "$$\n",
    "\n",
    "<p><span style=\"font-size:18px\">\n",
    "Because of $-1.65 < -0.72 < 1.65$, there is no statistical difference between the models at $90$% confidence level.\n",
    "</span></p>\n",
    "\n",
    "<p><span style=\"font-size:18px\">\n",
    "If we do a one-tailed test instead of two-tailed, we get similar result: no statistical difference ($-1.28 < -0.72$).\n",
    "</span></p>"
   ]
  },
  {
   "cell_type": "markdown",
   "metadata": {},
   "source": [
    "# Question 2\n",
    "<p><span style=\"font-size:18px\">\n",
    "a)\n",
    "</span></p>\n",
    "\n",
    "$$\n",
    "\\begin{aligned}\n",
    "{\\bf w} &= \\lambda(\\Sigma_{0} + \\Sigma_{1} + \\lambda I)^{-1}({\\bf \\mu_{1}} - {\\bf \\mu_{0}}) \\\\\n",
    "&= 100 * (\\begin{pmatrix} 4&1 \\\\ 1&2 \\end{pmatrix} + \\begin{pmatrix} 3&-1 \\\\ -1&2 \\end{pmatrix} + \n",
    "\\begin{pmatrix} 100&0 \\\\ 0&100 \\end{pmatrix})^{-1}*(\\begin{pmatrix} 0 \\\\ 0 \\end{pmatrix} - \n",
    "\\begin{pmatrix} 1 \\\\ 1 \\end{pmatrix}) \\\\\n",
    "&=100*\\frac{1}{107*104}\\begin{pmatrix} 104&0 \\\\ 0&107 \\end{pmatrix}\\begin{pmatrix} -1 \\\\ -1 \\end{pmatrix}\\\\\n",
    "&=100*\\begin{pmatrix} 1/107&0 \\\\ 0&1/104 \\end{pmatrix}\\begin{pmatrix} -1 \\\\ -1 \\end{pmatrix} \\\\\n",
    "&= -\\begin{pmatrix} 100/107 \\\\ 25/26 \\end{pmatrix}\n",
    "\\end{aligned}\n",
    "$$\n",
    "\n",
    "<p><span style=\"font-size:18px\">\n",
    "b)\n",
    "</span></p>\n",
    "\n",
    "$$\n",
    "\\Sigma_{0}+\\Sigma_{1} = \\begin{pmatrix} a&b \\\\ c&d \\end{pmatrix}, \\,\n",
    "\\lambda I= \\begin{pmatrix} \\lambda&0 \\\\ 0&\\lambda \\end{pmatrix}, \\,\n",
    "{\\bf \\mu_{1}}-{\\bf \\mu_{0}} = \\begin{pmatrix} t_{0} \\\\ t_{1} \\end{pmatrix}\n",
    "$$\n",
    "\n",
    "$$\n",
    "\\begin{aligned}\n",
    "{\\bf w} &= \\lambda(\\Sigma_{0} + \\Sigma_{1} + \\lambda I)^{-1}({\\bf \\mu_{1}} - {\\bf \\mu_{0}}) \\\\\n",
    "&= (\\begin{pmatrix} a&b \\\\ c&d \\end{pmatrix} + \\begin{pmatrix} \\lambda&0 \\\\ 0&\\lambda \\end{pmatrix})^{-1}\n",
    "\\begin{pmatrix} t_{0} \\\\ t_{1} \\end{pmatrix} \\\\\n",
    "&= \\frac{\\lambda}{(a+\\lambda)(d+\\lambda)-cb}\\begin{pmatrix} d+\\lambda&-b \\\\ -c&a+\\lambda \\end{pmatrix}\n",
    "\\begin{pmatrix} t_{0} \\\\ t_{1} \\end{pmatrix}\n",
    "\\end{aligned}\n",
    "$$\n",
    "\n",
    "<p><span style=\"font-size:18px\">\n",
    "**Calculate few limits:**\n",
    "</span></p>\n",
    "\n",
    "<p><span style=\"font-size:18px\">\n",
    "It can be easily seen that:\n",
    "</span></p>\n",
    "\n",
    "$$\n",
    "\\lim_{\\lambda \\to \\infty} \\frac{\\lambda(d+\\lambda)}{(a+\\lambda)(d+\\lambda)-cb}\n",
    "= \\lim_{\\lambda \\to \\infty} \\frac{d\\lambda+\\lambda^{2}}{ad + (a+d)\\lambda +\\lambda^{2}-cb}\n",
    "= 1\n",
    "$$\n",
    "\n",
    "<p><span style=\"font-size:18px\">\n",
    "Similarly:\n",
    "</span></p>\n",
    "\n",
    "$$\n",
    "\\lim_{\\lambda \\to \\infty} \\frac{\\lambda(a+\\lambda)}{(a+\\lambda)(d+\\lambda)-cb}=1\n",
    "$$\n",
    "\n",
    "$$\n",
    "\\lim_{\\lambda \\to \\infty} \\frac{\\lambda}{(a+\\lambda)(d+\\lambda)-cb}=0\n",
    "$$\n",
    "\n",
    "<p><span style=\"font-size:18px\">\n",
    "Therefore:\n",
    "</span></p>\n",
    "\n",
    "$$\n",
    "\\begin{aligned}\n",
    "\\lim_{\\lambda \\to \\infty} {\\bf w} \n",
    "&= \\left(\\lim_{\\lambda \\to \\infty} \\frac{\\lambda}{(a+\\lambda)(d+\\lambda)-cb}\\begin{pmatrix} d+\\lambda&-b \\\\ -c&a+\\lambda \\end{pmatrix}\\right) \\begin{pmatrix} t_{0} \\\\ t_{1} \\end{pmatrix} \\\\\n",
    "&= \\begin{pmatrix} 1&0 \\\\ 0&1 \\end{pmatrix} \\begin{pmatrix} t_{0} \\\\ t_{1} \\end{pmatrix} \\\\\n",
    "&= \\begin{pmatrix} t_{0} \\\\ t_{1} \\end{pmatrix} \\\\\n",
    "&= {\\bf \\mu_{1}}-{\\bf \\mu_{0}}\n",
    "\\end{aligned}\n",
    "$$\n"
   ]
  },
  {
   "cell_type": "markdown",
   "metadata": {},
   "source": [
    "# Question 3"
   ]
  },
  {
   "cell_type": "code",
   "execution_count": 1,
   "metadata": {},
   "outputs": [],
   "source": [
    "from scipy.io import loadmat\n",
    "from sklearn.ensemble import RandomForestClassifier\n",
    "from sklearn.metrics import accuracy_score\n",
    "import matplotlib.pyplot as plt\n",
    "import os\n",
    "\n",
    "#%% Load the data\n",
    "os.chdir('/home/tuomas/Python/DATA.ML.200/Ex6')\n",
    "data = loadmat('arcene.mat')\n",
    "\n",
    "trainX = data['X_train']\n",
    "trainY = data['y_train'].ravel()\n",
    "\n",
    "testX = data['X_test']\n",
    "testY = data['y_test'].ravel()"
   ]
  },
  {
   "cell_type": "code",
   "execution_count": 2,
   "metadata": {},
   "outputs": [
    {
     "data": {
      "text/plain": [
       "RandomForestClassifier(n_jobs=-1)"
      ]
     },
     "execution_count": 2,
     "metadata": {},
     "output_type": "execute_result"
    }
   ],
   "source": [
    "# a) Train a random forest classifier with 100 trees.\n",
    "model = RandomForestClassifier(n_estimators=100, n_jobs=-1)\n",
    "model.fit(trainX, trainY)"
   ]
  },
  {
   "cell_type": "code",
   "execution_count": 3,
   "metadata": {},
   "outputs": [
    {
     "data": {
      "text/plain": [
       "Text(0.5, 1.0, 'Feature importances')"
      ]
     },
     "execution_count": 3,
     "metadata": {},
     "output_type": "execute_result"
    },
    {
     "data": {
      "image/png": "[encoded data removed]",
      "text/plain": [
       "<Figure size 1080x720 with 1 Axes>"
      ]
     },
     "metadata": {
      "needs_background": "light"
     },
     "output_type": "display_data"
    }
   ],
   "source": [
    "# b) Plot a histogram of its feature importances.\n",
    "feature_importances = model.feature_importances_\n",
    "plt.figure(figsize=(15,10))\n",
    "plt.plot(feature_importances, '-')\n",
    "plt.title('Feature importances')"
   ]
  },
  {
   "cell_type": "code",
   "execution_count": 4,
   "metadata": {},
   "outputs": [
    {
     "name": "stdout",
     "output_type": "stream",
     "text": [
      "Accuracy = 0.78\n"
     ]
    }
   ],
   "source": [
    "# c) Compute the accuracy on X_test and y_test.\n",
    "predY = model.predict(testX)\n",
    "acc = accuracy_score(testY, predY)\n",
    "print('Accuracy = {}'.format(acc))"
   ]
  },
  {
   "cell_type": "markdown",
   "metadata": {},
   "source": [
    "# Question 4"
   ]
  },
  {
   "cell_type": "code",
   "execution_count": 5,
   "metadata": {},
   "outputs": [],
   "source": [
    "from sklearn.discriminant_analysis import LinearDiscriminantAnalysis\n",
    "from sklearn.feature_selection import RFECV\n",
    "# a) Instantiate an RFECV selector\n",
    "lda = LinearDiscriminantAnalysis(solver='svd')\n",
    "rfe = RFECV(estimator=lda, step=50, verbose=1, n_jobs=-1)"
   ]
  },
  {
   "cell_type": "code",
   "execution_count": 6,
   "metadata": {},
   "outputs": [
    {
     "name": "stdout",
     "output_type": "stream",
     "text": [
      "Fitting estimator with 10000 features.\n",
      "Fitting estimator with 9950 features.\n",
      "Fitting estimator with 9900 features.\n",
      "Fitting estimator with 9850 features.\n",
      "Fitting estimator with 9800 features.\n",
      "Fitting estimator with 9750 features.\n",
      "Fitting estimator with 9700 features.\n",
      "Fitting estimator with 9650 features.\n",
      "Fitting estimator with 9600 features.\n",
      "Fitting estimator with 9550 features.\n",
      "Fitting estimator with 9500 features.\n",
      "Fitting estimator with 9450 features.\n",
      "Fitting estimator with 9400 features.\n",
      "Fitting estimator with 9350 features.\n",
      "Fitting estimator with 9300 features.\n",
      "Fitting estimator with 9250 features.\n",
      "Fitting estimator with 9200 features.\n",
      "Fitting estimator with 9150 features.\n",
      "Fitting estimator with 9100 features.\n",
      "Fitting estimator with 9050 features.\n",
      "Fitting estimator with 9000 features.\n",
      "Fitting estimator with 8950 features.\n",
      "Fitting estimator with 8900 features.\n",
      "Fitting estimator with 8850 features.\n",
      "Fitting estimator with 8800 features.\n",
      "Fitting estimator with 8750 features.\n",
      "Fitting estimator with 8700 features.\n",
      "Fitting estimator with 8650 features.\n",
      "Fitting estimator with 8600 features.\n",
      "Fitting estimator with 8550 features.\n",
      "Fitting estimator with 8500 features.\n",
      "Fitting estimator with 8450 features.\n",
      "Fitting estimator with 8400 features.\n",
      "Fitting estimator with 8350 features.\n",
      "Fitting estimator with 8300 features.\n",
      "Fitting estimator with 8250 features.\n",
      "Fitting estimator with 8200 features.\n",
      "Fitting estimator with 8150 features.\n",
      "Fitting estimator with 8100 features.\n",
      "Fitting estimator with 8050 features.\n",
      "Fitting estimator with 8000 features.\n",
      "Fitting estimator with 7950 features.\n",
      "Fitting estimator with 7900 features.\n",
      "Fitting estimator with 7850 features.\n",
      "Fitting estimator with 7800 features.\n",
      "Fitting estimator with 7750 features.\n",
      "Fitting estimator with 7700 features.\n",
      "Fitting estimator with 7650 features.\n",
      "Fitting estimator with 7600 features.\n",
      "Fitting estimator with 7550 features.\n",
      "Fitting estimator with 7500 features.\n",
      "Fitting estimator with 7450 features.\n",
      "Fitting estimator with 7400 features.\n",
      "Fitting estimator with 7350 features.\n",
      "Fitting estimator with 7300 features.\n",
      "Fitting estimator with 7250 features.\n",
      "Fitting estimator with 7200 features.\n",
      "Fitting estimator with 7150 features.\n",
      "Fitting estimator with 7100 features.\n",
      "Fitting estimator with 7050 features.\n",
      "Fitting estimator with 7000 features.\n",
      "Fitting estimator with 6950 features.\n",
      "Fitting estimator with 6900 features.\n",
      "Fitting estimator with 6850 features.\n",
      "Fitting estimator with 6800 features.\n",
      "Fitting estimator with 6750 features.\n",
      "Fitting estimator with 6700 features.\n",
      "Fitting estimator with 6650 features.\n",
      "Fitting estimator with 6600 features.\n",
      "Fitting estimator with 6550 features.\n",
      "Fitting estimator with 6500 features.\n",
      "Fitting estimator with 6450 features.\n",
      "Fitting estimator with 6400 features.\n",
      "Fitting estimator with 6350 features.\n",
      "Fitting estimator with 6300 features.\n",
      "Fitting estimator with 6250 features.\n",
      "Fitting estimator with 6200 features.\n",
      "Fitting estimator with 6150 features.\n",
      "Fitting estimator with 6100 features.\n",
      "Fitting estimator with 6050 features.\n",
      "Fitting estimator with 6000 features.\n",
      "Fitting estimator with 5950 features.\n",
      "Fitting estimator with 5900 features.\n",
      "Fitting estimator with 5850 features.\n",
      "Fitting estimator with 5800 features.\n",
      "Fitting estimator with 5750 features.\n",
      "Fitting estimator with 5700 features.\n",
      "Fitting estimator with 5650 features.\n",
      "Fitting estimator with 5600 features.\n",
      "Fitting estimator with 5550 features.\n",
      "Fitting estimator with 5500 features.\n",
      "Fitting estimator with 5450 features.\n",
      "Fitting estimator with 5400 features.\n",
      "Fitting estimator with 5350 features.\n",
      "Fitting estimator with 5300 features.\n",
      "Fitting estimator with 5250 features.\n",
      "Fitting estimator with 5200 features.\n",
      "Fitting estimator with 5150 features.\n",
      "Fitting estimator with 5100 features.\n",
      "Fitting estimator with 5050 features.\n",
      "Fitting estimator with 5000 features.\n",
      "Fitting estimator with 4950 features.\n",
      "Fitting estimator with 4900 features.\n",
      "Fitting estimator with 4850 features.\n",
      "Fitting estimator with 4800 features.\n",
      "Fitting estimator with 4750 features.\n",
      "Fitting estimator with 4700 features.\n",
      "Fitting estimator with 4650 features.\n",
      "Fitting estimator with 4600 features.\n",
      "Fitting estimator with 4550 features.\n",
      "Fitting estimator with 4500 features.\n",
      "Fitting estimator with 4450 features.\n",
      "Fitting estimator with 4400 features.\n",
      "Fitting estimator with 4350 features.\n",
      "Fitting estimator with 4300 features.\n",
      "Fitting estimator with 4250 features.\n",
      "Fitting estimator with 4200 features.\n",
      "Fitting estimator with 4150 features.\n",
      "Fitting estimator with 4100 features.\n",
      "Fitting estimator with 4050 features.\n",
      "Fitting estimator with 4000 features.\n",
      "Fitting estimator with 3950 features.\n",
      "Fitting estimator with 3900 features.\n",
      "Fitting estimator with 3850 features.\n",
      "Fitting estimator with 3800 features.\n"
     ]
    },
    {
     "data": {
      "text/plain": [
       "RFECV(estimator=LinearDiscriminantAnalysis(), n_jobs=-1, step=50, verbose=1)"
      ]
     },
     "execution_count": 6,
     "metadata": {},
     "output_type": "execute_result"
    }
   ],
   "source": [
    "# b) Fit the RFECV to X_train and y_train.\n",
    "rfe.fit(trainX, trainY)"
   ]
  },
  {
   "cell_type": "code",
   "execution_count": 7,
   "metadata": {},
   "outputs": [
    {
     "name": "stdout",
     "output_type": "stream",
     "text": [
      "Number of selected features = 3750\n"
     ]
    }
   ],
   "source": [
    "import numpy as np\n",
    "# c) Count the number of selected features from rfe.support_.\n",
    "selected_features_count = np.sum(rfe.support_)\n",
    "print('Number of selected features = {}'.format(selected_features_count))"
   ]
  },
  {
   "cell_type": "code",
   "execution_count": 8,
   "metadata": {},
   "outputs": [
    {
     "data": {
      "text/plain": [
       "[<matplotlib.lines.Line2D at 0x7f7399700e80>]"
      ]
     },
     "execution_count": 8,
     "metadata": {},
     "output_type": "execute_result"
    },
    {
     "data": {
      "image/png": "[encoded data removed]",
      "text/plain": [
       "<Figure size 432x288 with 1 Axes>"
      ]
     },
     "metadata": {
      "needs_background": "light"
     },
     "output_type": "display_data"
    }
   ],
   "source": [
    "# d) Plot the errors for different number of features:\n",
    "plt.plot(range(0,10001,50), rfe.grid_scores_)"
   ]
  },
  {
   "cell_type": "code",
   "execution_count": 9,
   "metadata": {},
   "outputs": [
    {
     "name": "stdout",
     "output_type": "stream",
     "text": [
      "Accuracy = 0.77\n"
     ]
    }
   ],
   "source": [
    "# e) Compute the accuracy on X_test and y_test.\n",
    "predY = rfe.predict(testX)\n",
    "acc = accuracy_score(testY, predY)\n",
    "print('Accuracy = {}'.format(acc))"
   ]
  },
  {
   "cell_type": "markdown",
   "metadata": {},
   "source": [
    "# Question 5"
   ]
  },
  {
   "cell_type": "code",
   "execution_count": 24,
   "metadata": {},
   "outputs": [],
   "source": [
    "from sklearn.linear_model import LogisticRegression\n",
    "# a) Instantiate a LogisticRegression classifier.\n",
    "model = LogisticRegression(penalty='l1', max_iter=1000, solver='liblinear')"
   ]
  },
  {
   "cell_type": "code",
   "execution_count": 25,
   "metadata": {},
   "outputs": [],
   "source": [
    "from sklearn.model_selection import cross_val_score\n",
    "# b) Estimate the accuracy of the classifier using 5-fold CV\n",
    "cv_scores = []\n",
    "for i in range(-4,3):\n",
    "    c = 10**i\n",
    "    model.C = c\n",
    "    cvs = cross_val_score(model, trainX, trainY, cv=5, n_jobs=-1)\n",
    "    # Evaluate classifiers by the mean of cv scores\n",
    "    cv_scores.append(np.mean(cvs))"
   ]
  },
  {
   "cell_type": "code",
   "execution_count": 26,
   "metadata": {},
   "outputs": [
    {
     "name": "stdout",
     "output_type": "stream",
     "text": [
      "Best C = 10^2\n"
     ]
    },
    {
     "data": {
      "text/plain": [
       "LogisticRegression(C=100, max_iter=1000, penalty='l1', solver='liblinear')"
      ]
     },
     "execution_count": 26,
     "metadata": {},
     "output_type": "execute_result"
    }
   ],
   "source": [
    "# c) Fit the LogisticRegression to X_train and y_train with the best C.\n",
    "i=np.argmax(cv_scores)-4\n",
    "model.C = 10**i\n",
    "print('Best C = 10^{}'.format(i))\n",
    "model.fit(trainX, trainY)"
   ]
  },
  {
   "cell_type": "code",
   "execution_count": 27,
   "metadata": {},
   "outputs": [
    {
     "name": "stdout",
     "output_type": "stream",
     "text": [
      "Number of selected features = 2496\n"
     ]
    }
   ],
   "source": [
    "# d) Count the number of selected features from clf.coef_\n",
    "selected_features_count = np.sum(model.coef_!=0.)\n",
    "print('Number of selected features = {}'.format(selected_features_count))"
   ]
  },
  {
   "cell_type": "code",
   "execution_count": 28,
   "metadata": {},
   "outputs": [
    {
     "name": "stdout",
     "output_type": "stream",
     "text": [
      "Accuracy = 0.81\n"
     ]
    }
   ],
   "source": [
    "# Compute the accuracy on X_test and y_test.\n",
    "predY = model.predict(testX)\n",
    "acc = accuracy_score(testY, predY)\n",
    "print('Accuracy = {}'.format(acc))"
   ]
  }
 ],
 "metadata": {
  "kernelspec": {
   "display_name": "Python 3",
   "language": "python",
   "name": "python3"
  },
  "language_info": {
   "codemirror_mode": {
    "name": "ipython",
    "version": 3
   },
   "file_extension": ".py",
   "mimetype": "text/x-python",
   "name": "python",
   "nbconvert_exporter": "python",
   "pygments_lexer": "ipython3",
   "version": "3.8.3"
  }
 },
 "nbformat": 4,
 "nbformat_minor": 4
}
